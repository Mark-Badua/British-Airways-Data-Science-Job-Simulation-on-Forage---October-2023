{
 "cells": [
  {
   "cell_type": "code",
   "execution_count": 1,
   "id": "1de5931a",
   "metadata": {},
   "outputs": [],
   "source": [
    "import numpy as np\n",
    "import pandas as pd"
   ]
  },
  {
   "cell_type": "code",
   "execution_count": 2,
   "id": "f1946992",
   "metadata": {},
   "outputs": [],
   "source": [
    "df = pd.read_csv('BA_reviews.csv', index_col = 0)"
   ]
  },
  {
   "cell_type": "code",
   "execution_count": 3,
   "id": "41f251ca",
   "metadata": {},
   "outputs": [
    {
     "data": {
      "text/plain": [
       "1122"
      ]
     },
     "execution_count": 3,
     "metadata": {},
     "output_type": "execute_result"
    }
   ],
   "source": [
    "#Only 1122 are verified reviews\n",
    "df.iloc[:,0].str.contains(pat = \"✅ Trip Verified \").sum()"
   ]
  },
  {
   "cell_type": "code",
   "execution_count": 20,
   "id": "03e1404f",
   "metadata": {},
   "outputs": [
    {
     "name": "stderr",
     "output_type": "stream",
     "text": [
      "/var/folders/t1/52x70tfd0qsbzl4vy63rh41m0000gp/T/ipykernel_6356/4078061955.py:2: SettingWithCopyWarning: \n",
      "A value is trying to be set on a copy of a slice from a DataFrame.\n",
      "Try using .loc[row_indexer,col_indexer] = value instead\n",
      "\n",
      "See the caveats in the documentation: https://pandas.pydata.org/pandas-docs/stable/user_guide/indexing.html#returning-a-view-versus-a-copy\n",
      "  verified_reviews['reviews'] = verified_reviews.reviews.apply(lambda x: x.split(r'|')[-1])\n",
      "/var/folders/t1/52x70tfd0qsbzl4vy63rh41m0000gp/T/ipykernel_6356/4078061955.py:3: SettingWithCopyWarning: \n",
      "A value is trying to be set on a copy of a slice from a DataFrame.\n",
      "Try using .loc[row_indexer,col_indexer] = value instead\n",
      "\n",
      "See the caveats in the documentation: https://pandas.pydata.org/pandas-docs/stable/user_guide/indexing.html#returning-a-view-versus-a-copy\n",
      "  verified_reviews['reviews'] = verified_reviews.reviews.apply(lambda x: x.replace(\"\\\\\", \"\"))\n"
     ]
    }
   ],
   "source": [
    "verified_reviews = df[df.iloc[:,0].str.contains(pat = \"✅ Trip Verified \")]\n",
    "verified_reviews['reviews'] = verified_reviews.reviews.apply(lambda x: x.split(r'|')[-1])\n",
    "verified_reviews['reviews'] = verified_reviews.reviews.apply(lambda x: x.replace(\"\\\\\", \"\"))"
   ]
  },
  {
   "cell_type": "code",
   "execution_count": 21,
   "id": "0ffc34e5",
   "metadata": {},
   "outputs": [
    {
     "data": {
      "text/html": [
       "<div>\n",
       "<style scoped>\n",
       "    .dataframe tbody tr th:only-of-type {\n",
       "        vertical-align: middle;\n",
       "    }\n",
       "\n",
       "    .dataframe tbody tr th {\n",
       "        vertical-align: top;\n",
       "    }\n",
       "\n",
       "    .dataframe thead th {\n",
       "        text-align: right;\n",
       "    }\n",
       "</style>\n",
       "<table border=\"1\" class=\"dataframe\">\n",
       "  <thead>\n",
       "    <tr style=\"text-align: right;\">\n",
       "      <th></th>\n",
       "      <th>reviews</th>\n",
       "    </tr>\n",
       "  </thead>\n",
       "  <tbody>\n",
       "    <tr>\n",
       "      <th>0</th>\n",
       "      <td>I had a flight from Miami, Florida to Dublin,...</td>\n",
       "    </tr>\n",
       "    <tr>\n",
       "      <th>1</th>\n",
       "      <td>We started our day with BA in Prague. The fl...</td>\n",
       "    </tr>\n",
       "    <tr>\n",
       "      <th>2</th>\n",
       "      <td>I fly British Airways weekly not because I w...</td>\n",
       "    </tr>\n",
       "    <tr>\n",
       "      <th>6</th>\n",
       "      <td>Check in and security clearance very quick at...</td>\n",
       "    </tr>\n",
       "    <tr>\n",
       "      <th>8</th>\n",
       "      <td>Worst BA experience. I was supposed to fly ou...</td>\n",
       "    </tr>\n",
       "    <tr>\n",
       "      <th>...</th>\n",
       "      <td>...</td>\n",
       "    </tr>\n",
       "    <tr>\n",
       "      <th>1336</th>\n",
       "      <td>After 3 hour delay at airport, flight destine...</td>\n",
       "    </tr>\n",
       "    <tr>\n",
       "      <th>1337</th>\n",
       "      <td>Flew British Airways from Madrid to London He...</td>\n",
       "    </tr>\n",
       "    <tr>\n",
       "      <th>1338</th>\n",
       "      <td>Tel Aviv to London. We arrived at the airpor...</td>\n",
       "    </tr>\n",
       "    <tr>\n",
       "      <th>1339</th>\n",
       "      <td>London to Tel Aviv. Arrived at Heathrow at a...</td>\n",
       "    </tr>\n",
       "    <tr>\n",
       "      <th>1340</th>\n",
       "      <td>Kuala Lumpur to Madrid via London. My first ...</td>\n",
       "    </tr>\n",
       "  </tbody>\n",
       "</table>\n",
       "<p>1122 rows × 1 columns</p>\n",
       "</div>"
      ],
      "text/plain": [
       "                                                reviews\n",
       "0      I had a flight from Miami, Florida to Dublin,...\n",
       "1       We started our day with BA in Prague. The fl...\n",
       "2       I fly British Airways weekly not because I w...\n",
       "6      Check in and security clearance very quick at...\n",
       "8      Worst BA experience. I was supposed to fly ou...\n",
       "...                                                 ...\n",
       "1336   After 3 hour delay at airport, flight destine...\n",
       "1337   Flew British Airways from Madrid to London He...\n",
       "1338    Tel Aviv to London. We arrived at the airpor...\n",
       "1339    London to Tel Aviv. Arrived at Heathrow at a...\n",
       "1340    Kuala Lumpur to Madrid via London. My first ...\n",
       "\n",
       "[1122 rows x 1 columns]"
      ]
     },
     "execution_count": 21,
     "metadata": {},
     "output_type": "execute_result"
    }
   ],
   "source": [
    "verified_reviews"
   ]
  },
  {
   "cell_type": "code",
   "execution_count": 24,
   "id": "6e1dbff6",
   "metadata": {},
   "outputs": [
    {
     "data": {
      "text/plain": [
       "\" I had a flight from Miami, Florida to Dublin, Ireland, via London's Heathrow airport. The outbound flight from Miami was delayed and we were further delayed when our gate was occupied when we arrived in Heathrow. The total delay was roughly an hour, but it was enough to make our connection a challenge, where we had 73 minutes between original arrival time until the departure time to Dublin. When we headed to our connection flight, we were stopped by security personnel at a checkpoint and told us that the gate to our connection flight had already closed. This was twenty minutes prior to departure time. They ushered us to customer service to be rebooked. Given the busy weekend of travel, we were rebooked on a flight at a different airport and were told that our cost to get there would be reimbursed. We then waited 3 hours for our luggage, and then took a cab to London's City Airport. The cab fare was roughly $500. When I filed a claim with British Airways, they refused the claim and told me that we had plenty of time to make our connecting flight and therefore they denied my claim to be reimbursed for the cab fare. This is after I explained that it was British Airways employees who ushered us to rebook the flight despite the 20 minute timeframe to make the connecting flight. The person who rebooked us, told us it was policy that they close the gate 20 minutes prior to departure. I will never fly this awful airline again. Given the other feedback on this site, it appears that that is the overwhelming sentiment.\""
      ]
     },
     "execution_count": 24,
     "metadata": {},
     "output_type": "execute_result"
    }
   ],
   "source": [
    "verified_reviews.iloc[0,0]"
   ]
  },
  {
   "cell_type": "code",
   "execution_count": 25,
   "id": "43618eb9",
   "metadata": {},
   "outputs": [],
   "source": [
    "verified_reviews.to_csv('BA_reviews_verified.csv')"
   ]
  },
  {
   "cell_type": "code",
   "execution_count": null,
   "id": "3dcdd7b1",
   "metadata": {},
   "outputs": [],
   "source": []
  }
 ],
 "metadata": {
  "kernelspec": {
   "display_name": "Python 3 (ipykernel)",
   "language": "python",
   "name": "python3"
  },
  "language_info": {
   "codemirror_mode": {
    "name": "ipython",
    "version": 3
   },
   "file_extension": ".py",
   "mimetype": "text/x-python",
   "name": "python",
   "nbconvert_exporter": "python",
   "pygments_lexer": "ipython3",
   "version": "3.9.18"
  }
 },
 "nbformat": 4,
 "nbformat_minor": 5
}
